{
 "cells": [
  {
   "cell_type": "markdown",
   "metadata": {},
   "source": [
    "# Prueba técnica Científico de datos - Puntored \n"
   ]
  },
  {
   "cell_type": "markdown",
   "metadata": {},
   "source": [
    "## Sección 1: Preguntas Teóricas"
   ]
  },
  {
   "cell_type": "markdown",
   "metadata": {},
   "source": [
    "## ***Python***"
   ]
  },
  {
   "cell_type": "markdown",
   "metadata": {},
   "source": [
    "### 1. Explica la diferencia entre una lista y un conjunto en Python. ¿En qué situaciones usarías cada uno? "
   ]
  },
  {
   "cell_type": "markdown",
   "metadata": {},
   "source": [
    "En python, un conjunto y una lista son tipos de datos que sirven para almacenar múltiples elementos. Sin embargo, se diferencian en lo siguiente:\n"
   ]
  },
  {
   "cell_type": "markdown",
   "metadata": {},
   "source": [
    "### Diferencias principales:\n",
    "\n",
    "| Característica           | **Lista (`list`)**                                  | **Conjunto (`set`)**                                              |\n",
    "|--------------------------|----------------------------------------------------|------------------------------------------------------------------|\n",
    "| **Orden**                | Mantiene el orden de los elementos.                | No garantiza el orden de los elementos.                         |\n",
    "| **Duplicados**           | Permite elementos duplicados.                      | No permite elementos duplicados.                                |\n",
    "| **Mutabilidad**          | Es mutable (puede modificarse).                    | También es mutable, pero sus elementos deben ser inmutables. Es decir, los conjuntos en Python no pueden contener listas, diccionarios u otros conjuntos. Pero si acepta tuplas, ya que son inmutables    |\n",
    "| **Acceso**               | Se puede acceder a los elementos mediante índices. | No permite acceso mediante índices.                             |\n",
    "| **Operaciones matemáticas** | No cuenta con operaciones matemáticas nativas.         | Soporta operaciones de conjuntos como unión, intersección y diferencia. |\n"
   ]
  },
  {
   "cell_type": "markdown",
   "metadata": {},
   "source": [
    "### ¿Cúando usar cada uno?\n",
    "\n",
    "### Lista (list)\n",
    "\n",
    "Se usa una lista cuando se tienen las siguientes necesidades:\n",
    "- Permitir valores duplicados.\n",
    "- Mantener el orden de los elementos.\n",
    "- Posibilidad de acceder a los elementos usando índice.\n",
    "- Realizar operaciones que requieran recorrer los elementos en un orden específico.\n"
   ]
  },
  {
   "cell_type": "markdown",
   "metadata": {},
   "source": [
    "### Conjunto (set)\n",
    "\n",
    "Se usa un conjunto cuando se cumplen las siguientes condiciones:\n",
    "- Es necesario evitar elementos duplicados.\n",
    "- El orden de los elementos es irrelevante.\n",
    "- Se requieren operaciones matemáticas de conjuntos como: unión, intersección, diferencia.\n",
    "- Se requiere una busqueda rapida de los elementos. Los conjuntos son mas rapidos que las listas (se usa la funcion 'in')."
   ]
  },
  {
   "cell_type": "markdown",
   "metadata": {},
   "source": [
    "### 2. ¿Qué hace el método apply() en un DataFrame de pandas? Da un ejemplo de uso.  "
   ]
  },
  {
   "cell_type": "markdown",
   "metadata": {},
   "source": [
    "El método apply() en un DataFrame de pandas se usa para aplicar una función personalizada a lo largo de las filas o columnas. "
   ]
  },
  {
   "cell_type": "markdown",
   "metadata": {},
   "source": [
    "### Ejemplo:\n"
   ]
  },
  {
   "cell_type": "code",
   "execution_count": 1,
   "metadata": {},
   "outputs": [],
   "source": [
    "# Importamos las librerias a utilizar\n",
    "import pandas as pd\n",
    "import numpy as np"
   ]
  },
  {
   "cell_type": "code",
   "execution_count": 2,
   "metadata": {},
   "outputs": [
    {
     "data": {
      "text/html": [
       "<div>\n",
       "<style scoped>\n",
       "    .dataframe tbody tr th:only-of-type {\n",
       "        vertical-align: middle;\n",
       "    }\n",
       "\n",
       "    .dataframe tbody tr th {\n",
       "        vertical-align: top;\n",
       "    }\n",
       "\n",
       "    .dataframe thead th {\n",
       "        text-align: right;\n",
       "    }\n",
       "</style>\n",
       "<table border=\"1\" class=\"dataframe\">\n",
       "  <thead>\n",
       "    <tr style=\"text-align: right;\">\n",
       "      <th></th>\n",
       "      <th>Producto</th>\n",
       "      <th>Precio</th>\n",
       "      <th>Cantidad</th>\n",
       "      <th>Monto_Total</th>\n",
       "    </tr>\n",
       "  </thead>\n",
       "  <tbody>\n",
       "    <tr>\n",
       "      <th>0</th>\n",
       "      <td>A</td>\n",
       "      <td>100</td>\n",
       "      <td>3</td>\n",
       "      <td>300</td>\n",
       "    </tr>\n",
       "    <tr>\n",
       "      <th>1</th>\n",
       "      <td>B</td>\n",
       "      <td>200</td>\n",
       "      <td>10</td>\n",
       "      <td>2000</td>\n",
       "    </tr>\n",
       "    <tr>\n",
       "      <th>2</th>\n",
       "      <td>C</td>\n",
       "      <td>350</td>\n",
       "      <td>2</td>\n",
       "      <td>700</td>\n",
       "    </tr>\n",
       "  </tbody>\n",
       "</table>\n",
       "</div>"
      ],
      "text/plain": [
       "  Producto  Precio  Cantidad  Monto_Total\n",
       "0        A     100         3          300\n",
       "1        B     200        10         2000\n",
       "2        C     350         2          700"
      ]
     },
     "execution_count": 2,
     "metadata": {},
     "output_type": "execute_result"
    }
   ],
   "source": [
    "# Creo un dataset\n",
    "df = pd.DataFrame({\n",
    "    \"Producto\": [\"A\", \"B\", \"C\"],\n",
    "    \"Precio\": [100, 200, 350],\n",
    "    \"Cantidad\": [3, 10, 2]\n",
    "})\n",
    "# Aplico el metodo apply para calcular el monto total\n",
    "df[\"Monto_Total\"] = df.apply(lambda fila: fila[\"Precio\"] * fila[\"Cantidad\"], axis=1)\n",
    "df.head()\n"
   ]
  },
  {
   "cell_type": "markdown",
   "metadata": {},
   "source": [
    "### 3. ¿Cuál es la diferencia entre deepcopy() y copy() en Python? Explica con un ejemplo.\n"
   ]
  },
  {
   "cell_type": "markdown",
   "metadata": {},
   "source": [
    "| Característica         | `copy.copy()` (Copia Superficial) | `copy.deepcopy()` (Copia Profunda) |\n",
    "|-----------------------|---------------------------------|---------------------------------|\n",
    "| **Estructura copiada** | Crea una nueva variable, pero los elementos internos siguen referenciados al original. | Crea una copia totalmente nueva, incluyendo los elementos internos. |\n",
    "| **Objetos mutables**   | Si el objeto contiene listas, diccionarios u otros mutables, los cambios en ellos afectarán a ambas copias. | Cualquier cambio en la copia no afecta al original, incluso en estructuras anidadas. |\n",
    "| **Rendimiento**       | Más rápido porque solo copia referencias. | Más lento ya que copia todos los elementos. |\n",
    "\n",
    "\n",
    "En resumen, el metodo copy() crea una copia que comparte referencias con el original, mientras que deepcopy() crea una copia completamente independiente."
   ]
  },
  {
   "cell_type": "markdown",
   "metadata": {},
   "source": [
    "### Ejemplo: "
   ]
  },
  {
   "cell_type": "code",
   "execution_count": 3,
   "metadata": {},
   "outputs": [
    {
     "name": "stdout",
     "output_type": "stream",
     "text": [
      "Lista Original: [1, 2, [3, 4, 5]]\n",
      "Copia Superficial (copy): [1, 2, [3, 4, 5]]\n",
      "Copia Profunda (deep copy): [1, 2, [3, 4]]\n"
     ]
    }
   ],
   "source": [
    "# Primero, import la libreria copy\n",
    "import copy\n",
    "\n",
    "# Lista original\n",
    "lista_original = [1, 2, [3, 4]]\n",
    "\n",
    "# Copia superficial (copy)\n",
    "lista_copy = copy.copy(lista_original)\n",
    "\n",
    "# Copia profunda (deep copy)\n",
    "lista_deep = copy.deepcopy(lista_original)\n",
    "\n",
    "# Modifico la copia superficial\n",
    "lista_copy[2].append(5)\n",
    "\n",
    "# A continuacion, vemos como cambiará la lista original y la superficial\n",
    "\n",
    "print(\"Lista Original:\", lista_original)\n",
    "print(\"Copia Superficial (copy):\", lista_copy)\n",
    "print(\"Copia Profunda (deep copy):\", lista_deep)\n"
   ]
  },
  {
   "cell_type": "markdown",
   "metadata": {},
   "source": [
    "# ***SQL***"
   ]
  },
  {
   "cell_type": "markdown",
   "metadata": {},
   "source": [
    "### 4. Dado un esquema de base de datos con una tabla ventas(id, cliente_id, fecha, monto), escribe una consulta SQL para obtener el total de ventas por cliente en el último mes. "
   ]
  },
  {
   "cell_type": "markdown",
   "metadata": {},
   "source": [
    "<pre style=\"color: white; background-color: black; padding: 10px;\">\n",
    "  <span style=\"color: lightblue;\">SELECT</span> cliente_id, \n",
    "  <span style=\"color: orange;\">SUM</span>(monto) \n",
    "  <span style=\"color: lightblue;\">AS</span> total_ventas\n",
    "  <span style=\"color: lightblue;\">FROM</span> ventas\n",
    "  <span style=\"color: lightblue;\">WHERE</span> \n",
    "    <span style=\"color: orange;\">YEAR</span>(fecha) = \n",
    "    (<span style=\"color: lightblue;\">SELECT</span> \n",
    "      <span style=\"color: orange;\">YEAR</span>(<span style=\"color: orange;\">MAX</span>(fecha)) \n",
    "    <span style=\"color: lightblue;\">FROM</span> ventas)\n",
    "  <span style=\"color: lightblue;\">AND</span> \n",
    "    <span style=\"color: orange;\">MONTH</span>(fecha) = \n",
    "    (<span style=\"color: lightblue;\">SELECT</span> \n",
    "      <span style=\"color: orange;\">MONTH</span>(<span style=\"color: orange;\">MAX</span>(fecha)) \n",
    "    <span style=\"color: lightblue;\">FROM</span> ventas)\n",
    "  <span style=\"color: lightblue;\">GROUP BY</span> cliente_id;\n",
    "</pre>\n",
    "\n"
   ]
  },
  {
   "cell_type": "markdown",
   "metadata": {},
   "source": [
    "### 5. Explica la diferencia entre un INNER JOIN y un LEFT JOIN. Da un ejemplo de cada uno. "
   ]
  },
  {
   "cell_type": "markdown",
   "metadata": {},
   "source": [
    "| **JOIN**        | **Descripción** |\n",
    "|----------------|---------------|\n",
    "| **INNER JOIN** | Devuelve solo las filas que tienen coincidencias en ambas tablas. |\n",
    "| **LEFT JOIN**  | Devuelve todas las filas de la tabla izquierda y las coincidencias de la derecha. Si no hay coincidencias, los valores de la tabla derecha aparecen como `NULL`. |\n",
    "\n",
    "\n",
    "\n"
   ]
  },
  {
   "cell_type": "markdown",
   "metadata": {},
   "source": [
    "### 🔹 **Ejemplo de INNER JOIN**\n",
    "#### **Tablas de ejemplo**\n",
    "**clientes**  \n",
    "| id | nombre  |\n",
    "|----|---------|\n",
    "| 1  | Ana     |\n",
    "| 2  | Juan    |\n",
    "| 3  | Pedro   |\n",
    "\n",
    "**pedidos**  \n",
    "| id | cliente_id | producto  |\n",
    "|----|------------|-----------|\n",
    "| 1  | 1          | Laptop    |\n",
    "| 2  | 2          | Teléfono  |\n",
    "\n",
    "#### **Consulta**\n",
    "```sql\n",
    "SELECT clientes.nombre, pedidos.producto\n",
    "FROM clientes\n",
    "INNER JOIN pedidos \n",
    "ON clientes.id = pedidos.cliente_id;\n",
    "\n",
    "### **Resultado**\n",
    "| nombre | producto  |\n",
    "|--------|-----------|\n",
    "| Ana    | Laptop   |\n",
    "| Juan   | Teléfono |\n",
    "\n",
    "---"
   ]
  },
  {
   "cell_type": "markdown",
   "metadata": {},
   "source": [
    "### 🔹 **Ejemplo de LEFT JOIN**\n",
    "```sql\n",
    "SELECT clientes.nombre, pedidos.producto\n",
    "FROM clientes\n",
    "LEFT JOIN pedidos \n",
    "ON clientes.id = pedidos.cliente_id;\n",
    "\n",
    "### **Resultado**\n",
    "| nombre | producto  |\n",
    "|--------|-----------|\n",
    "| Ana    | Laptop   |\n",
    "| Juan   | Teléfono |\n",
    "| Pedro  | NULL     |\n",
    "\n",
    "Nota: **Pedro aparece aunque no tenga pedidos, porque el LEFT JOIN incluye todos los registros de `clientes`.**\n",
    "\n"
   ]
  },
  {
   "cell_type": "markdown",
   "metadata": {},
   "source": [
    "### 6. Qué es la cláusula HAVING en SQL y en qué se diferencia de WHERE?"
   ]
  },
  {
   "cell_type": "markdown",
   "metadata": {},
   "source": [
    "La cláusula **HAVING** se usa en SQL para filtrar los resultados de una consulta después de aplicar funciones de agregación como `SUM()`, `COUNT()`, `AVG()`, etc. Se diferencia de `WHERE`, que se usa para filtrar registros antes de la agregación."
   ]
  },
  {
   "cell_type": "markdown",
   "metadata": {},
   "source": [
    "| Cláusula | Descripción |\n",
    "|----------|-------------|\n",
    "| **WHERE** | Filtra filas antes de la agregación. Se usa con columnas individuales. |\n",
    "| **HAVING** | Filtra grupos después de la agregación. Se usa con funciones de agregación. |"
   ]
  },
  {
   "cell_type": "markdown",
   "metadata": {},
   "source": [
    "**Conclusión:**  \n",
    "\n",
    "- Se usa **WHERE** cuando se necesita filtrar filas individuales.  \n",
    "- Se usa **HAVING** cuando se necesita filtrar después de aplicar `GROUP BY`.  \n"
   ]
  },
  {
   "cell_type": "markdown",
   "metadata": {},
   "source": [
    "# ***Machine Learning***"
   ]
  },
  {
   "cell_type": "markdown",
   "metadata": {},
   "source": [
    "### 7. ¿Cuál es la diferencia entre un modelo supervisado y no supervisado? Da un ejemplo de cada uno."
   ]
  },
  {
   "cell_type": "markdown",
   "metadata": {},
   "source": [
    "### Diferencia entre un modelo supervisado y no supervisado\n",
    "\n",
    "| Tipo de Modelo      | Descripción |\n",
    "|---------------------|-------------|\n",
    "| **Supervisado**    | Se entrena con datos etiquetados. Es decir, el modelo aprende a partir de ejemplos donde se conoce la respuesta correcta. |\n",
    "| **No Supervisado** | Se entrena con datos no etiquetados y encuentra patrones o estructuras ocultas sin información previa sobre las respuestas. |\n",
    "\n",
    "### Ejemplos:\n",
    "\n",
    "🔹 **Modelo Supervisado:**  \n",
    "Un clasificador de correos electrónicos que distingue entre \"spam\" y \"no spam\". Se entrena el modelo mostrandole, previamente correos categorizados.  \n",
    "\n",
    "🔹 **Modelo No Supervisado:**  \n",
    "Un algoritmo de segmentación de clientes que agrupa usuarios en categorías según su comportamiento de compra, sin etiquetas previas.  \n"
   ]
  },
  {
   "cell_type": "markdown",
   "metadata": {},
   "source": [
    "### 8. Menciona tres métricas de evaluación para modelos de clasificación y explica cuándo usar cada una"
   ]
  },
  {
   "cell_type": "markdown",
   "metadata": {},
   "source": [
    "***Métricas de Evaluación para Modelos de Clasificación***  \n",
    "\n",
    "| **Métrica**      | **Descripción** | **Cuándo usarla** |\n",
    "|-----------------|----------------|-------------------|\n",
    "| **Accuracy (Exactitud)** | Proporción de predicciones correctas sobre el total de predicciones. | Útil cuando las clases están balanceadas y no hay un sesgo en los datos. |\n",
    "| **Precision (Precisión)** | Proporción de verdaderos positivos entre todas las predicciones positivas ***(De todas las instancias que el modelo predijo como positivas, ¿cuántas realmente eran positivas?)***. | Importante cuando los falsos positivos tienen un alto costo (ej. detección de fraude). |\n",
    "| **Recall (Sensibilidad o Exhaustividad)** | Proporción de verdaderos positivos sobre el total de casos positivos reales. ***(De todas las instancias que eran realmente positivas, ¿a cuántas acerto el modelo?)***| Crucial cuando los falsos negativos son costosos (ej. detección de enfermedades). |\n",
    "\n",
    "### Cuándo elegir cada métrica:\n",
    "\n",
    "- Se recomenda usar **accuracy** si las clases están balanceadas y quieres medir el rendimiento general.  \n",
    "- La metrica **precision** se usa cuando el costo de un falso positivo es alto, por ejemplo, en un sistema de detección de spam.  \n",
    "- Es recomendable usar **recall** si los falsos negativos son más peligrosos, como en el diagnóstico de cáncer.  \n",
    "\n",
    "***Nota:***\n",
    "Cabe mencionar que para un mejor análisis, se recomienda la métrica **F1-score** (media armónica entre precisión y recall). Esta es útil cuando hay un desequilibrio entre clases.  \n"
   ]
  }
 ],
 "metadata": {
  "kernelspec": {
   "display_name": "Python 3",
   "language": "python",
   "name": "python3"
  },
  "language_info": {
   "codemirror_mode": {
    "name": "ipython",
    "version": 3
   },
   "file_extension": ".py",
   "mimetype": "text/x-python",
   "name": "python",
   "nbconvert_exporter": "python",
   "pygments_lexer": "ipython3",
   "version": "3.11.0"
  }
 },
 "nbformat": 4,
 "nbformat_minor": 2
}
